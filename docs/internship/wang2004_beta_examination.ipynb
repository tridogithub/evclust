{
 "cells": [
  {
   "cell_type": "markdown",
   "source": [
    "## This file is to find the 'beta' parameter which satisfies the constraint specified in the  paper 'Improving fuzzy c-means clustering based on feature-weight learning' of Wag et al. 2004"
   ],
   "metadata": {
    "collapsed": false
   },
   "id": "6dff2ebf6fa01b01"
  },
  {
   "cell_type": "markdown",
   "source": [
    "![title](../assets/wang2004_beta.png)"
   ],
   "metadata": {
    "collapsed": false
   },
   "id": "d12f164c2baa049a"
  },
  {
   "cell_type": "code",
   "outputs": [],
   "source": [
    "# Importing\n",
    "import numpy as np\n",
    "from ucimlrepo import fetch_ucirepo\n",
    "from sklearn.preprocessing import MinMaxScaler\n",
    "import pandas as pd\n",
    "from evclust.datasets import load_letters, load_seeds, load_forest, load_thyroid, load_crescent2D, load_toys3c2d_2, load_toys3c2d, load_bupa, load_diapetes\n"
   ],
   "metadata": {
    "collapsed": false,
    "ExecuteTime": {
     "end_time": "2024-06-20T13:49:08.858691Z",
     "start_time": "2024-06-20T13:49:07.898478Z"
    }
   },
   "id": "d68fe86fd5e6191b",
   "execution_count": 1
  },
  {
   "cell_type": "code",
   "outputs": [],
   "source": [
    "def check(x, beta):\n",
    "    scaler = MinMaxScaler((0, 1))\n",
    "    x = np.array(scaler.fit_transform(x))\n",
    "\n",
    "    n = x.shape[0]\n",
    "    sum = 0\n",
    "    for i in range(x.shape[0]):\n",
    "        for j in range(i):\n",
    "            sum += 1 / (1 + beta * np.linalg.norm(x[i, :] - x[j, :]))\n",
    "    return sum * 2 / (n * (n - 1))"
   ],
   "metadata": {
    "collapsed": false,
    "ExecuteTime": {
     "end_time": "2024-06-20T13:49:09.942908Z",
     "start_time": "2024-06-20T13:49:09.921935Z"
    }
   },
   "id": "2abce804ed15957",
   "execution_count": 2
  },
  {
   "cell_type": "code",
   "outputs": [
    {
     "name": "stdout",
     "output_type": "stream",
     "text": [
      "Beta: 1.85 - Constraint value: 0.5045617779142303\n"
     ]
    }
   ],
   "source": [
    "# IRIS\n",
    "iris = fetch_ucirepo(id=53)\n",
    "X = iris.data.features\n",
    "\n",
    "beta = 1.85\n",
    "print(f\"Beta: {beta} - Constraint value: {check(X, beta)}\")"
   ],
   "metadata": {
    "collapsed": false,
    "ExecuteTime": {
     "end_time": "2024-06-13T15:30:09.440333Z",
     "start_time": "2024-06-13T15:30:08.251584Z"
    }
   },
   "id": "5d87acfdfb0780a5",
   "execution_count": 83
  },
  {
   "cell_type": "code",
   "outputs": [
    {
     "name": "stdout",
     "output_type": "stream",
     "text": [
      "Beta: 3 - Constraint value: 0.5032888013545569\n"
     ]
    }
   ],
   "source": [
    "df_wt_label = pd.read_csv('../../src/evclust/datasets/2c2dDataset.csv')\n",
    "dataset = df_wt_label.values\n",
    "X = np.array(dataset[:, :-1])\n",
    "\n",
    "beta = 3\n",
    "print(f\"Beta: {beta} - Constraint value: {check(X, beta)}\")"
   ],
   "metadata": {
    "collapsed": false,
    "ExecuteTime": {
     "end_time": "2024-06-13T15:30:09.568334Z",
     "start_time": "2024-06-13T15:30:09.443325Z"
    }
   },
   "id": "66bba326e2127b69",
   "execution_count": 84
  },
  {
   "cell_type": "code",
   "outputs": [
    {
     "name": "stdout",
     "output_type": "stream",
     "text": [
      "Beta: 1.85 - Constraint value: 0.5055576472359291\n"
     ]
    }
   ],
   "source": [
    "df_wt_label = pd.read_csv('../../src/evclust/datasets/2c6dDataset.csv')\n",
    "dataset = df_wt_label.values\n",
    "X = np.array(dataset[:, :-1])\n",
    "\n",
    "beta = 1.85\n",
    "print(f\"Beta: {beta} - Constraint value: {check(X, beta)}\")"
   ],
   "metadata": {
    "collapsed": false,
    "ExecuteTime": {
     "end_time": "2024-06-13T15:21:31.585839Z",
     "start_time": "2024-06-13T15:21:30.617153Z"
    }
   },
   "id": "85490ad0627104f8",
   "execution_count": 36
  },
  {
   "cell_type": "code",
   "outputs": [
    {
     "name": "stdout",
     "output_type": "stream",
     "text": [
      "Beta: 0.85 - Constraint value: 0.5088446093993055\n"
     ]
    }
   ],
   "source": [
    "df = load_letters()\n",
    "# data (as pandas dataframes)\n",
    "X = np.array(df.iloc[:, :-1])\n",
    "\n",
    "beta = 0.85\n",
    "print(f\"Beta: {beta} - Constraint value: {check(X, beta)}\")"
   ],
   "metadata": {
    "collapsed": false,
    "ExecuteTime": {
     "end_time": "2024-06-13T15:24:07.530740Z",
     "start_time": "2024-06-13T15:24:07.387001Z"
    }
   },
   "id": "efda14bd8d714187",
   "execution_count": 49
  },
  {
   "cell_type": "code",
   "outputs": [
    {
     "name": "stdout",
     "output_type": "stream",
     "text": [
      "Beta: 1.3 - Constraint value: 0.5082681422009392\n"
     ]
    }
   ],
   "source": [
    "df = load_seeds()\n",
    "df = df.drop(columns=['C'])\n",
    "X = np.array(df.iloc[:, :-1])\n",
    "\n",
    "beta = 1.3\n",
    "print(f\"Beta: {beta} - Constraint value: {check(X, beta)}\")"
   ],
   "metadata": {
    "collapsed": false,
    "ExecuteTime": {
     "end_time": "2024-06-13T15:25:29.267009Z",
     "start_time": "2024-06-13T15:25:29.130122Z"
    }
   },
   "id": "9fd940b0aca74511",
   "execution_count": 56
  },
  {
   "cell_type": "code",
   "outputs": [
    {
     "name": "stdout",
     "output_type": "stream",
     "text": [
      "Beta: 5 - Constraint value: 0.5057177317700611\n"
     ]
    }
   ],
   "source": [
    "df = fetch_ucirepo(id=109)\n",
    "X = np.array(df.data.targets)\n",
    "\n",
    "beta = 5\n",
    "print(f\"Beta: {beta} - Constraint value: {check(X, beta)}\")"
   ],
   "metadata": {
    "collapsed": false,
    "ExecuteTime": {
     "end_time": "2024-06-13T15:28:07.877624Z",
     "start_time": "2024-06-13T15:28:06.572577Z"
    }
   },
   "id": "2d7ac179306998f",
   "execution_count": 68
  },
  {
   "cell_type": "code",
   "outputs": [
    {
     "name": "stdout",
     "output_type": "stream",
     "text": [
      "Beta: 0.95 - Constraint value: 0.5088348912615639\n"
     ]
    }
   ],
   "source": [
    "forest_type = load_forest()\n",
    "X = np.array(forest_type.iloc[:, 1:])\n",
    "\n",
    "beta = 0.95\n",
    "print(f\"Beta: {beta} - Constraint value: {check(X, beta)}\")"
   ],
   "metadata": {
    "collapsed": false,
    "ExecuteTime": {
     "end_time": "2024-06-13T15:29:37.459730Z",
     "start_time": "2024-06-13T15:29:37.177138Z"
    }
   },
   "id": "a4cb48fa3b8768f",
   "execution_count": 78
  },
  {
   "cell_type": "code",
   "outputs": [
    {
     "name": "stdout",
     "output_type": "stream",
     "text": [
      "Beta: 3.2 - Constraint value: 0.5099442672568539\n"
     ]
    }
   ],
   "source": [
    "thyroid = load_thyroid()\n",
    "X = thyroid.iloc[:, 1:]\n",
    "\n",
    "beta = 3.2\n",
    "print(f\"Beta: {beta} - Constraint value: {check(X, beta)}\")"
   ],
   "metadata": {
    "collapsed": false,
    "ExecuteTime": {
     "end_time": "2024-06-13T15:30:30.504924Z",
     "start_time": "2024-06-13T15:30:30.372857Z"
    }
   },
   "id": "8799d73478a2b38b",
   "execution_count": 90
  },
  {
   "cell_type": "code",
   "outputs": [
    {
     "name": "stdout",
     "output_type": "stream",
     "text": [
      "Beta: 2.5 - Constraint value: 0.5080123370834654\n"
     ]
    }
   ],
   "source": [
    "crescent2d = load_crescent2D()\n",
    "X = crescent2d.iloc[:, :-1]\n",
    "\n",
    "beta = 2.5\n",
    "print(f\"Beta: {beta} - Constraint value: {check(X, beta)}\")"
   ],
   "metadata": {
    "collapsed": false,
    "ExecuteTime": {
     "end_time": "2024-06-20T12:52:24.022505Z",
     "start_time": "2024-06-20T12:52:23.279464Z"
    }
   },
   "id": "3763e8e990574e34",
   "execution_count": 11
  },
  {
   "cell_type": "code",
   "outputs": [
    {
     "name": "stdout",
     "output_type": "stream",
     "text": [
      "Beta: 3.4 - Constraint value: 0.5041067091772828\n"
     ]
    }
   ],
   "source": [
    "toys3c2d = load_toys3c2d_2()\n",
    "X = toys3c2d.iloc[:, :-1]\n",
    "\n",
    "beta = 3.4\n",
    "print(f\"Beta: {beta} - Constraint value: {check(X, beta)}\")"
   ],
   "metadata": {
    "collapsed": false,
    "ExecuteTime": {
     "end_time": "2024-06-20T12:53:06.679740Z",
     "start_time": "2024-06-20T12:53:05.563007Z"
    }
   },
   "id": "8b0092f37cd1f3f9",
   "execution_count": 15
  },
  {
   "cell_type": "code",
   "outputs": [
    {
     "name": "stdout",
     "output_type": "stream",
     "text": [
      "Beta: 3.1 - Constraint value: 0.5078967862232651\n"
     ]
    }
   ],
   "source": [
    "toys3c2d = load_toys3c2d()\n",
    "X = toys3c2d.iloc[:, :-1]\n",
    "\n",
    "beta = 3.1\n",
    "print(f\"Beta: {beta} - Constraint value: {check(X, beta)}\")"
   ],
   "metadata": {
    "collapsed": false,
    "ExecuteTime": {
     "end_time": "2024-06-20T12:53:34.259867Z",
     "start_time": "2024-06-20T12:53:33.287317Z"
    }
   },
   "id": "65ac9665fd0aef19",
   "execution_count": 19
  },
  {
   "cell_type": "code",
   "outputs": [
    {
     "name": "stdout",
     "output_type": "stream",
     "text": [
      "Beta: 0.54 - Constraint value: 0.5032993830836595\n"
     ]
    }
   ],
   "source": [
    "# Ionoshpere\n",
    "iris = fetch_ucirepo(id=52)\n",
    "X = iris.data.features\n",
    "\n",
    "beta = 0.54\n",
    "print(f\"Beta: {beta} - Constraint value: {check(X, beta)}\")"
   ],
   "metadata": {
    "collapsed": false,
    "ExecuteTime": {
     "end_time": "2024-06-19T14:18:08.190552Z",
     "start_time": "2024-06-19T14:18:06.649852Z"
    }
   },
   "id": "554a9c09171a3c9e",
   "execution_count": 12
  },
  {
   "cell_type": "code",
   "outputs": [
    {
     "name": "stdout",
     "output_type": "stream",
     "text": [
      "Beta: 2.6 - Constraint value: 0.5013447187333655\n"
     ]
    }
   ],
   "source": [
    "# BUPA liver disorder\n",
    "bupa = load_bupa()\n",
    "X = bupa.iloc[:, :-1]\n",
    "\n",
    "beta = 2.6\n",
    "print(f\"Beta: {beta} - Constraint value: {check(X, beta)}\")"
   ],
   "metadata": {
    "collapsed": false,
    "ExecuteTime": {
     "end_time": "2024-06-20T12:53:53.457788Z",
     "start_time": "2024-06-20T12:53:53.153599Z"
    }
   },
   "id": "dd880d75ec46e2d",
   "execution_count": 23
  },
  {
   "cell_type": "code",
   "outputs": [
    {
     "name": "stdout",
     "output_type": "stream",
     "text": [
      "Beta: 1.2 - Constraint value: 0.5011137583768611\n"
     ]
    }
   ],
   "source": [
    "# breast cancer Wisconsin\n",
    "breast = fetch_ucirepo(id = 15)\n",
    "X = breast.data.features\n",
    "X = X.fillna(0)\n",
    "\n",
    "beta = 1.2\n",
    "print(f\"Beta: {beta} - Constraint value: {check(X, beta)}\")"
   ],
   "metadata": {
    "collapsed": false,
    "ExecuteTime": {
     "end_time": "2024-06-20T13:34:13.331615Z",
     "start_time": "2024-06-20T13:34:11.053104Z"
    }
   },
   "id": "cb1d72588283fa7c",
   "execution_count": 28
  },
  {
   "cell_type": "code",
   "outputs": [
    {
     "name": "stdout",
     "output_type": "stream",
     "text": [
      "Beta: 1.7 - Constraint value: 0.5099216841092541\n"
     ]
    }
   ],
   "source": [
    "# PIMA diabetes\n",
    "bupa = load_diapetes()\n",
    "X = bupa.iloc[:, :-1]\n",
    "\n",
    "beta = 1.7\n",
    "print(f\"Beta: {beta} - Constraint value: {check(X, beta)}\")"
   ],
   "metadata": {
    "collapsed": false,
    "ExecuteTime": {
     "end_time": "2024-06-20T13:50:57.609734Z",
     "start_time": "2024-06-20T13:50:56.114674Z"
    }
   },
   "id": "392b58885a8bec3f",
   "execution_count": 6
  }
 ],
 "metadata": {
  "kernelspec": {
   "display_name": "Python 3",
   "language": "python",
   "name": "python3"
  },
  "language_info": {
   "codemirror_mode": {
    "name": "ipython",
    "version": 2
   },
   "file_extension": ".py",
   "mimetype": "text/x-python",
   "name": "python",
   "nbconvert_exporter": "python",
   "pygments_lexer": "ipython2",
   "version": "2.7.6"
  }
 },
 "nbformat": 4,
 "nbformat_minor": 5
}
