{
 "cells": [
  {
   "cell_type": "markdown",
   "source": [
    "## This file is to find the 'beta' parameter which satisfies the constraint specified in the  paper 'Improving fuzzy c-means clustering based on feature-weight learning' of Wag et al. 2004"
   ],
   "metadata": {
    "collapsed": false
   },
   "id": "6dff2ebf6fa01b01"
  },
  {
   "cell_type": "markdown",
   "source": [
    "![title](../assets/wang2004_beta.png)"
   ],
   "metadata": {
    "collapsed": false
   },
   "id": "d12f164c2baa049a"
  },
  {
   "cell_type": "code",
   "outputs": [],
   "source": [
    "# Importing\n",
    "import numpy as np\n",
    "from ucimlrepo import fetch_ucirepo\n",
    "from sklearn.preprocessing import MinMaxScaler\n",
    "import pandas as pd\n",
    "from evclust.datasets import load_letters, load_seeds, load_forest, load_thyroid\n"
   ],
   "metadata": {
    "collapsed": false,
    "ExecuteTime": {
     "end_time": "2024-06-13T15:30:07.149442Z",
     "start_time": "2024-06-13T15:30:07.139470Z"
    }
   },
   "id": "d68fe86fd5e6191b",
   "execution_count": 81
  },
  {
   "cell_type": "code",
   "outputs": [],
   "source": [
    "def check(x, beta):\n",
    "    scaler = MinMaxScaler((0, 1))\n",
    "    x = np.array(scaler.fit_transform(x))\n",
    "\n",
    "    n = x.shape[0]\n",
    "    sum = 0\n",
    "    for i in range(x.shape[0]):\n",
    "        for j in range(i):\n",
    "            sum += 1 / (1 + beta * np.linalg.norm(x[i, :] - x[j, :]))\n",
    "    return sum * 2 / (n * (n - 1))"
   ],
   "metadata": {
    "collapsed": false,
    "ExecuteTime": {
     "end_time": "2024-06-13T15:30:07.463556Z",
     "start_time": "2024-06-13T15:30:07.446530Z"
    }
   },
   "id": "2abce804ed15957",
   "execution_count": 82
  },
  {
   "cell_type": "code",
   "outputs": [
    {
     "name": "stdout",
     "output_type": "stream",
     "text": [
      "Beta: 1.85 - Constraint value: 0.5045617779142303\n"
     ]
    }
   ],
   "source": [
    "# IRIS\n",
    "iris = fetch_ucirepo(id=53)\n",
    "X = iris.data.features\n",
    "\n",
    "beta = 1.85\n",
    "print(f\"Beta: {beta} - Constraint value: {check(X, beta)}\")"
   ],
   "metadata": {
    "collapsed": false,
    "ExecuteTime": {
     "end_time": "2024-06-13T15:30:09.440333Z",
     "start_time": "2024-06-13T15:30:08.251584Z"
    }
   },
   "id": "5d87acfdfb0780a5",
   "execution_count": 83
  },
  {
   "cell_type": "code",
   "outputs": [
    {
     "name": "stdout",
     "output_type": "stream",
     "text": [
      "Beta: 3 - Constraint value: 0.5032888013545569\n"
     ]
    }
   ],
   "source": [
    "df_wt_label = pd.read_csv('../../src/evclust/datasets/2c2dDataset.csv')\n",
    "dataset = df_wt_label.values\n",
    "X = np.array(dataset[:, :-1])\n",
    "\n",
    "beta = 3\n",
    "print(f\"Beta: {beta} - Constraint value: {check(X, beta)}\")"
   ],
   "metadata": {
    "collapsed": false,
    "ExecuteTime": {
     "end_time": "2024-06-13T15:30:09.568334Z",
     "start_time": "2024-06-13T15:30:09.443325Z"
    }
   },
   "id": "66bba326e2127b69",
   "execution_count": 84
  },
  {
   "cell_type": "code",
   "outputs": [
    {
     "name": "stdout",
     "output_type": "stream",
     "text": [
      "Beta: 1.85 - Constraint value: 0.5055576472359291\n"
     ]
    }
   ],
   "source": [
    "df_wt_label = pd.read_csv('../../src/evclust/datasets/2c6dDataset.csv')\n",
    "dataset = df_wt_label.values\n",
    "X = np.array(dataset[:, :-1])\n",
    "\n",
    "beta = 1.85\n",
    "print(f\"Beta: {beta} - Constraint value: {check(X, beta)}\")"
   ],
   "metadata": {
    "collapsed": false,
    "ExecuteTime": {
     "end_time": "2024-06-13T15:21:31.585839Z",
     "start_time": "2024-06-13T15:21:30.617153Z"
    }
   },
   "id": "85490ad0627104f8",
   "execution_count": 36
  },
  {
   "cell_type": "code",
   "outputs": [
    {
     "name": "stdout",
     "output_type": "stream",
     "text": [
      "Beta: 0.85 - Constraint value: 0.5088446093993055\n"
     ]
    }
   ],
   "source": [
    "df = load_letters()\n",
    "# data (as pandas dataframes)\n",
    "X = np.array(df.iloc[:, :-1])\n",
    "\n",
    "beta = 0.85\n",
    "print(f\"Beta: {beta} - Constraint value: {check(X, beta)}\")"
   ],
   "metadata": {
    "collapsed": false,
    "ExecuteTime": {
     "end_time": "2024-06-13T15:24:07.530740Z",
     "start_time": "2024-06-13T15:24:07.387001Z"
    }
   },
   "id": "efda14bd8d714187",
   "execution_count": 49
  },
  {
   "cell_type": "code",
   "outputs": [
    {
     "name": "stdout",
     "output_type": "stream",
     "text": [
      "Beta: 1.3 - Constraint value: 0.5082681422009392\n"
     ]
    }
   ],
   "source": [
    "df = load_seeds()\n",
    "df = df.drop(columns=['C'])\n",
    "X = np.array(df.iloc[:, :-1])\n",
    "\n",
    "beta = 1.3\n",
    "print(f\"Beta: {beta} - Constraint value: {check(X, beta)}\")"
   ],
   "metadata": {
    "collapsed": false,
    "ExecuteTime": {
     "end_time": "2024-06-13T15:25:29.267009Z",
     "start_time": "2024-06-13T15:25:29.130122Z"
    }
   },
   "id": "9fd940b0aca74511",
   "execution_count": 56
  },
  {
   "cell_type": "code",
   "outputs": [
    {
     "name": "stdout",
     "output_type": "stream",
     "text": [
      "Beta: 5 - Constraint value: 0.5057177317700611\n"
     ]
    }
   ],
   "source": [
    "df = fetch_ucirepo(id=109)\n",
    "X = np.array(df.data.targets)\n",
    "\n",
    "beta = 5\n",
    "print(f\"Beta: {beta} - Constraint value: {check(X, beta)}\")"
   ],
   "metadata": {
    "collapsed": false,
    "ExecuteTime": {
     "end_time": "2024-06-13T15:28:07.877624Z",
     "start_time": "2024-06-13T15:28:06.572577Z"
    }
   },
   "id": "2d7ac179306998f",
   "execution_count": 68
  },
  {
   "cell_type": "code",
   "outputs": [
    {
     "name": "stdout",
     "output_type": "stream",
     "text": [
      "Beta: 0.95 - Constraint value: 0.5088348912615639\n"
     ]
    }
   ],
   "source": [
    "forest_type = load_forest()\n",
    "X = np.array(forest_type.iloc[:, 1:])\n",
    "\n",
    "beta = 0.95\n",
    "print(f\"Beta: {beta} - Constraint value: {check(X, beta)}\")"
   ],
   "metadata": {
    "collapsed": false,
    "ExecuteTime": {
     "end_time": "2024-06-13T15:29:37.459730Z",
     "start_time": "2024-06-13T15:29:37.177138Z"
    }
   },
   "id": "a4cb48fa3b8768f",
   "execution_count": 78
  },
  {
   "cell_type": "code",
   "outputs": [
    {
     "name": "stdout",
     "output_type": "stream",
     "text": [
      "Beta: 3.2 - Constraint value: 0.5099442672568539\n"
     ]
    }
   ],
   "source": [
    "thyroid = load_thyroid()\n",
    "X = thyroid.iloc[:, 1:]\n",
    "\n",
    "beta = 3.2\n",
    "print(f\"Beta: {beta} - Constraint value: {check(X, beta)}\")"
   ],
   "metadata": {
    "collapsed": false,
    "ExecuteTime": {
     "end_time": "2024-06-13T15:30:30.504924Z",
     "start_time": "2024-06-13T15:30:30.372857Z"
    }
   },
   "id": "8799d73478a2b38b",
   "execution_count": 90
  }
 ],
 "metadata": {
  "kernelspec": {
   "display_name": "Python 3",
   "language": "python",
   "name": "python3"
  },
  "language_info": {
   "codemirror_mode": {
    "name": "ipython",
    "version": 2
   },
   "file_extension": ".py",
   "mimetype": "text/x-python",
   "name": "python",
   "nbconvert_exporter": "python",
   "pygments_lexer": "ipython2",
   "version": "2.7.6"
  }
 },
 "nbformat": 4,
 "nbformat_minor": 5
}
